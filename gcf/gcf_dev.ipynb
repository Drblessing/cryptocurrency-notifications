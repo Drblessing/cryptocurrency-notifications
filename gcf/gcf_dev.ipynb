{
 "cells": [
  {
   "cell_type": "code",
   "execution_count": 7,
   "metadata": {},
   "outputs": [],
   "source": [
    "import logging\n",
    "logger = logging.getLogger(__name__)\n",
    "logger.setLevel(logging.INFO)\n",
    "logging.Formatter('%(asctime)s - %(levelname)s - %(message)s')\n",
    "\n",
    "# Create a console handler and set its level\n",
    "console_handler = logging.StreamHandler()\n",
    "console_handler.setLevel(logging.INFO)\n",
    "\n",
    "# Create a formatter and set it on the console handler\n",
    "formatter = logging.Formatter('%(asctime)s - %(levelname)s - %(message)s')\n",
    "console_handler.setFormatter(formatter)\n",
    "\n",
    "# Add the console handler to the logger\n",
    "logger.addHandler(console_handler)\n"
   ]
  },
  {
   "cell_type": "code",
   "execution_count": null,
   "metadata": {},
   "outputs": [],
   "source": [
    "import scraping.scraper\n",
    "scraping.scraper.main()"
   ]
  },
  {
   "cell_type": "code",
   "execution_count": 1,
   "metadata": {},
   "outputs": [
    {
     "name": "stderr",
     "output_type": "stream",
     "text": [
      "2023-03-31 15:30:19,832 - INFO - Scraping 14 coins that are missing symbols.\n",
      "2023-03-31 15:30:23,492 - INFO - Scraped https://www.coingecko.com/en/coins/hedera\n",
      "2023-03-31 15:30:28,014 - INFO - Scraped https://www.coingecko.com/en/coins/toncoin\n",
      "2023-03-31 15:30:31,722 - INFO - Scraped https://www.coingecko.com/en/coins/synthetix-network-token\n",
      "2023-03-31 15:30:35,349 - INFO - Scraped https://www.coingecko.com/en/coins/conflux\n",
      "2023-03-31 15:30:38,992 - INFO - Scraped https://www.coingecko.com/en/coins/xdc-network\n",
      "2023-03-31 15:30:42,662 - INFO - Scraped https://www.coingecko.com/en/coins/avalanche\n",
      "2023-03-31 15:30:46,251 - INFO - Scraped https://www.coingecko.com/en/coins/sxp\n",
      "2023-03-31 15:30:49,989 - INFO - Scraped https://www.coingecko.com/en/coins/ankr-network\n",
      "2023-03-31 15:30:53,944 - INFO - Scraped https://www.coingecko.com/en/coins/horizen\n",
      "2023-03-31 15:30:57,539 - INFO - Scraped https://www.coingecko.com/en/coins/nexa\n",
      "2023-03-31 15:31:01,173 - INFO - Scraped https://www.coingecko.com/en/coins/oax\n",
      "2023-03-31 15:31:04,872 - INFO - Scraped https://www.coingecko.com/en/coins/instar\n",
      "2023-03-31 15:31:08,585 - INFO - Scraped https://www.coingecko.com/en/coins/dsla-protocol\n",
      "2023-03-31 15:31:12,239 - INFO - Scraped https://www.coingecko.com/en/coins/moonsama\n",
      "2023-03-31 15:31:12,257 - INFO - Number of coins with ethereum contract addresses: 42\n",
      "2023-03-31 15:31:12,257 - INFO - Done scraping contract addresses!\n"
     ]
    }
   ],
   "source": [
    "import scraping.contract_addresses\n",
    "scraping.contract_addresses.main()"
   ]
  },
  {
   "cell_type": "code",
   "execution_count": 2,
   "metadata": {},
   "outputs": [],
   "source": [
    "import csv\n",
    "import json\n",
    "import pandas as pd\n",
    "\n",
    "with open('gainers.csv') as f:\n",
    "    df = pd.read_csv(f)\n",
    "\n"
   ]
  },
  {
   "cell_type": "code",
   "execution_count": 4,
   "metadata": {},
   "outputs": [
    {
     "data": {
      "text/plain": [
       "(44, 7)"
      ]
     },
     "execution_count": 4,
     "metadata": {},
     "output_type": "execute_result"
    }
   ],
   "source": []
  }
 ],
 "metadata": {
  "kernelspec": {
   "display_name": "Python 3",
   "language": "python",
   "name": "python3"
  },
  "language_info": {
   "codemirror_mode": {
    "name": "ipython",
    "version": 3
   },
   "file_extension": ".py",
   "mimetype": "text/x-python",
   "name": "python",
   "nbconvert_exporter": "python",
   "pygments_lexer": "ipython3",
   "version": "3.10.9"
  },
  "orig_nbformat": 4
 },
 "nbformat": 4,
 "nbformat_minor": 2
}
