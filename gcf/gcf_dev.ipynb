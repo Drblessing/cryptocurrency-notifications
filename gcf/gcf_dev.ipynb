{
 "cells": [
  {
   "cell_type": "code",
   "execution_count": 1,
   "metadata": {},
   "outputs": [
    {
     "name": "stderr",
     "output_type": "stream",
     "text": [
      "2023-04-03 16:32:11,470 - INFO - Cloud function starting.\n",
      "2023-04-03 16:32:12,691 - INFO - Scraping complete.\n",
      "2023-04-03 16:32:13,463 - INFO - Scraping 3 coins that are missing symbols.\n",
      "2023-04-03 16:32:17,207 - INFO - Scraped https://www.coingecko.com/en/coins/sxp\n",
      "2023-04-03 16:32:20,913 - INFO - Scraped https://www.coingecko.com/en/coins/injective\n",
      "2023-04-03 16:32:24,744 - INFO - Scraped https://www.coingecko.com/en/coins/panther-protocol\n",
      "2023-04-03 16:32:24,770 - INFO - Number of coins with ethereum contract addresses: 19\n",
      "2023-04-03 16:32:24,771 - INFO - Done scraping contract addresses!\n",
      "2023-04-03 16:32:24,775 - INFO - Checking 19 token contracts.\n",
      "2023-04-03 16:32:24,960 - INFO - Running SQL query on Google Big Cloud.\n",
      "2023-04-03 16:32:28,313 - INFO - Query will process 768 MB.\n",
      "2023-04-03 16:32:28,316 - INFO - Running query...\n",
      "2023-04-03 16:32:29,896 - INFO - Query completed.\n",
      "2023-04-03 16:32:36,537 - INFO - Found 31 wallets.\n"
     ]
    }
   ],
   "source": [
    "import logging\n",
    "\n",
    "logger = logging.getLogger(__name__)\n",
    "logger.setLevel(logging.INFO)\n",
    "logging.Formatter(\"%(asctime)s - %(levelname)s - %(message)s\")\n",
    "\n",
    "# Create a console handler and set its level\n",
    "console_handler = logging.StreamHandler()\n",
    "console_handler.setLevel(logging.INFO)\n",
    "\n",
    "# Create a formatter and set it on the console handler\n",
    "formatter = logging.Formatter(\"%(asctime)s - %(levelname)s - %(message)s\")\n",
    "console_handler.setFormatter(formatter)\n",
    "\n",
    "# Add the console handler to the logger\n",
    "logger.addHandler(console_handler)\n",
    "\n",
    "\n",
    "def main():\n",
    "    logger.info(\"Cloud function starting.\")\n",
    "    # 1. Scrape coingecko gainers.\n",
    "    import scraping.scraper\n",
    "\n",
    "    scraping.scraper.main()\n",
    "\n",
    "    # 2. Get contract address for gainers that have them, with coingecko.\n",
    "    import scraping.contract_addresses\n",
    "\n",
    "    scraping.contract_addresses.main()\n",
    "\n",
    "    # 3. Run SQL query on Google Big Query to find wallets that have receieved these tokens within the last 7 days.\n",
    "    import gbq.gbq\n",
    "\n",
    "    gbq.gbq.main()\n",
    "\n",
    "\n",
    "main()\n"
   ]
  },
  {
   "cell_type": "code",
   "execution_count": 1,
   "metadata": {},
   "outputs": [
    {
     "name": "stderr",
     "output_type": "stream",
     "text": [
      "2023-04-03 16:36:03,966 - INFO - Checking 19 token contracts.\n"
     ]
    },
    {
     "name": "stdout",
     "output_type": "stream",
     "text": [
      "\n",
      "    WITH wallet_token_counts AS (\n",
      "    SELECT tt.to_address, tt.token_address, COUNT(tt.to_address) as num_txns\n",
      "    FROM `bigquery-public-data.crypto_ethereum.token_transfers` tt \n",
      "    WHERE tt.block_timestamp > TIMESTAMP_SUB(CURRENT_TIMESTAMP(), INTERVAL 7 DAY) \n",
      "    AND tt.block_timestamp < TIMESTAMP_SUB(CURRENT_TIMESTAMP(), INTERVAL 2 DAY) \n",
      "    AND tt.token_address in ('0x2c5bc2ba3614fd27fcc7022ea71d9172e2632c16','0x7b4328c127b85369d9f82ca0503b000d09cf9180','0x97872eafd79940c7b24f7bcc1eadb1457347adc9','0xf3b9569f82b18aef890de263b84189bd33ebe452','0x5de8ab7e27f6e7a1fff3e5b337584aa43961beef','0xb1f871ae9462f1b2c6826e88a7827e76f86751d4','0x177d39ac676ed1c67a2b268ad7f1e58826e5b0af','0xfcf8eda095e37a41e002e266daad7efc1579bc0a','0x96610186f3ab8d73ebee1cf950c750f3b1fb79c2','0x06450dee7fd2fb8e39061434babcfc05599a6fb8','0x3e9bc21c9b189c09df3ef1b824798658d5011937','0x505b5eda5e25a67e1c24a2bf1a527ed9eb88bf04','0xed04915c23f00a313a544955524eb7dbd823143d','0x73968b9a57c6e53d41345fd57a6e6ae27d6cdb2f','0x4dd942baa75810a3c1e876e79d5cd35e09c97a76','0x6fb3e0a217407efff7ca062d46c26e5d60a14d69','0x8ce9137d39326ad0cd6491fb5cc0cba0e089b6a9','0xe28b3b32b6c345a34ff64674606124dd5aceca30','0x909e34d3f6124c324ac83dcca84b74398a6fa173')\n",
      "    GROUP BY tt.to_address, tt.token_address)\n",
      "\n",
      "    SELECT to_address as wallet, COUNT(to_address) as num_tokens, SUM(num_txns) as num_txns\n",
      "    FROM wallet_token_counts wtc \n",
      "    LEFT JOIN `bigquery-public-data.crypto_ethereum.contracts` c\n",
      "    ON wtc.to_address = c.address\n",
      "    LEFT JOIN `labels.labels` labels\n",
      "    ON wtc.to_address = labels.address\n",
      "    WHERE c.address IS NULL\n",
      "    AND labels.address IS NULL\n",
      "    GROUP BY to_address\n",
      "    HAVING num_tokens >= 3\n",
      "    ORDER BY num_txns ASC, num_tokens DESC\n",
      "    \n"
     ]
    }
   ],
   "source": [
    "import gbq.gbq\n",
    "\n",
    "gbq.gbq.main(True)"
   ]
  }
 ],
 "metadata": {
  "kernelspec": {
   "display_name": "Python 3",
   "language": "python",
   "name": "python3"
  },
  "language_info": {
   "codemirror_mode": {
    "name": "ipython",
    "version": 3
   },
   "file_extension": ".py",
   "mimetype": "text/x-python",
   "name": "python",
   "nbconvert_exporter": "python",
   "pygments_lexer": "ipython3",
   "version": "3.11.1"
  },
  "orig_nbformat": 4
 },
 "nbformat": 4,
 "nbformat_minor": 2
}
