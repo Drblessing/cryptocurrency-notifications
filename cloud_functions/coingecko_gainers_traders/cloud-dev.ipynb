{
 "cells": [
  {
   "cell_type": "code",
   "execution_count": 7,
   "metadata": {},
   "outputs": [
    {
     "name": "stderr",
     "output_type": "stream",
     "text": [
      "2023-04-04 11:25:40,846 - INFO - Cloud function starting.\n",
      "2023-04-04 11:25:43,083 - INFO - Scraping complete.\n",
      "2023-04-04 11:25:43,741 - INFO - Current working directory: /Users/dbless/Documents/Github/cryptocurrency-notifications/cloud_functions/coingecko_gainers_traders\n",
      "2023-04-04 11:25:45,514 - INFO - Scraping 3 coins that are missing symbols.\n",
      "2023-04-04 11:25:50,639 - INFO - Scraped https://www.coingecko.com/en/coins/crypto-gladiator-league\n",
      "2023-04-04 11:25:54,330 - INFO - Scraped https://www.coingecko.com/en/coins/hnc-coin\n",
      "2023-04-04 11:25:58,004 - INFO - Scraped https://www.coingecko.com/en/coins/jenny-dao-v1\n",
      "2023-04-04 11:25:58,021 - INFO - Number of coins with ethereum contract addresses: 33\n",
      "2023-04-04 11:25:58,022 - INFO - Done scraping contract addresses!\n",
      "2023-04-04 11:25:58,027 - INFO - Checking 33 token contracts.\n",
      "2023-04-04 11:25:58,285 - INFO - Running SQL query on Google Big Cloud.\n",
      "2023-04-04 11:26:01,379 - INFO - Query will process 764 MB.\n",
      "2023-04-04 11:26:01,380 - INFO - Running query...\n",
      "2023-04-04 11:26:03,097 - INFO - Query completed.\n",
      "2023-04-04 11:26:09,456 - INFO - Found 51 wallets.\n"
     ]
    }
   ],
   "source": [
    "import logging\n",
    "\n",
    "logger = logging.getLogger(__name__)\n",
    "logger.setLevel(logging.INFO)\n",
    "logging.Formatter(\"%(asctime)s - %(levelname)s - %(message)s\")\n",
    "\n",
    "# Create a console handler and set its level\n",
    "console_handler = logging.StreamHandler()\n",
    "console_handler.setLevel(logging.INFO)\n",
    "\n",
    "# Create a formatter and set it on the console handler\n",
    "formatter = logging.Formatter(\"%(asctime)s - %(levelname)s - %(message)s\")\n",
    "console_handler.setFormatter(formatter)\n",
    "\n",
    "# Add the console handler to the logger\n",
    "logger.addHandler(console_handler)\n",
    "\n",
    "\n",
    "def main():\n",
    "    logger.info(\"Cloud function starting.\")\n",
    "    # 1. Scrape coingecko gainers.\n",
    "    import scraping.scraper\n",
    "\n",
    "    scraping.scraper.main()\n",
    "\n",
    "    # 2. Get contract address for gainers that have them, with coingecko.\n",
    "    import scraping.contract_addresses\n",
    "\n",
    "    scraping.contract_addresses.main(local=True)\n",
    "\n",
    "    # 3. Run SQL query on Google Big Query to find wallets that have receieved these tokens within the last 7 days.\n",
    "    import gbq.gbq\n",
    "\n",
    "    gbq.gbq.main(local=True)\n",
    "\n",
    "\n",
    "main()\n"
   ]
  },
  {
   "cell_type": "code",
   "execution_count": 1,
   "metadata": {},
   "outputs": [
    {
     "name": "stderr",
     "output_type": "stream",
     "text": [
      "2023-04-04 12:21:20,812 - INFO - Cloud function starting.\n",
      "2023-04-04 12:21:23,213 - INFO - Scraping complete.\n",
      "2023-04-04 12:21:23,716 - INFO - Current working directory: /Users/dbless/Documents/Github/cryptocurrency-notifications/cloud_functions/coingecko_gainers_traders\n",
      "2023-04-04 12:21:24,001 - INFO - Scraping 3 coins that are missing symbols.\n",
      "2023-04-04 12:21:27,942 - INFO - Scraped https://www.coingecko.com/en/coins/crypto-gladiator-league\n",
      "2023-04-04 12:21:31,581 - INFO - Scraped https://www.coingecko.com/en/coins/hnc-coin\n",
      "2023-04-04 12:21:35,226 - INFO - Scraped https://www.coingecko.com/en/coins/jenny-dao-v1\n",
      "2023-04-04 12:21:35,246 - INFO - Number of coins with ethereum contract addresses: 37\n",
      "2023-04-04 12:21:35,247 - INFO - Done scraping contract addresses!\n",
      "2023-04-04 12:21:35,251 - INFO - Checking 37 token contracts.\n",
      "2023-04-04 12:21:35,476 - INFO - Running SQL query on Google Big Cloud.\n",
      "2023-04-04 12:21:39,757 - INFO - Query will process 764 MB.\n",
      "2023-04-04 12:21:39,758 - INFO - Running query...\n",
      "2023-04-04 12:21:41,258 - INFO - Query completed.\n",
      "2023-04-04 12:21:48,713 - INFO - Found 73 wallets.\n",
      "2023-04-04 12:21:48,718 - INFO - Zipping files\n"
     ]
    }
   ],
   "source": [
    "import main\n",
    "\n",
    "response = main.main(\"\")\n"
   ]
  },
  {
   "cell_type": "code",
   "execution_count": 5,
   "metadata": {},
   "outputs": [
    {
     "ename": "RuntimeError",
     "evalue": "Working outside of application context.\n\nThis typically means that you attempted to use functionality that needed\nthe current application. To solve this, set up an application context\nwith app.app_context(). See the documentation for more information.",
     "output_type": "error",
     "traceback": [
      "\u001b[0;31m---------------------------------------------------------------------------\u001b[0m",
      "\u001b[0;31mRuntimeError\u001b[0m                              Traceback (most recent call last)",
      "Cell \u001b[0;32mIn[5], line 3\u001b[0m\n\u001b[1;32m      1\u001b[0m \u001b[39mfrom\u001b[39;00m \u001b[39mflask\u001b[39;00m \u001b[39mimport\u001b[39;00m make_response\n\u001b[0;32m----> 3\u001b[0m test \u001b[39m=\u001b[39m make_response(response)\n",
      "File \u001b[0;32m~/Documents/Github/cryptocurrency-notifications/.venv/lib/python3.11/site-packages/flask/helpers.py:209\u001b[0m, in \u001b[0;36mmake_response\u001b[0;34m(*args)\u001b[0m\n\u001b[1;32m    207\u001b[0m \u001b[39mif\u001b[39;00m \u001b[39mlen\u001b[39m(args) \u001b[39m==\u001b[39m \u001b[39m1\u001b[39m:\n\u001b[1;32m    208\u001b[0m     args \u001b[39m=\u001b[39m args[\u001b[39m0\u001b[39m]\n\u001b[0;32m--> 209\u001b[0m \u001b[39mreturn\u001b[39;00m current_app\u001b[39m.\u001b[39;49mmake_response(args)\n",
      "File \u001b[0;32m~/Documents/Github/cryptocurrency-notifications/.venv/lib/python3.11/site-packages/werkzeug/local.py:316\u001b[0m, in \u001b[0;36m_ProxyLookup.__get__\u001b[0;34m(self, instance, owner)\u001b[0m\n\u001b[1;32m    313\u001b[0m     \u001b[39mreturn\u001b[39;00m \u001b[39mself\u001b[39m\n\u001b[1;32m    315\u001b[0m \u001b[39mtry\u001b[39;00m:\n\u001b[0;32m--> 316\u001b[0m     obj \u001b[39m=\u001b[39m instance\u001b[39m.\u001b[39;49m_get_current_object()\n\u001b[1;32m    317\u001b[0m \u001b[39mexcept\u001b[39;00m \u001b[39mRuntimeError\u001b[39;00m:\n\u001b[1;32m    318\u001b[0m     \u001b[39mif\u001b[39;00m \u001b[39mself\u001b[39m\u001b[39m.\u001b[39mfallback \u001b[39mis\u001b[39;00m \u001b[39mNone\u001b[39;00m:\n",
      "File \u001b[0;32m~/Documents/Github/cryptocurrency-notifications/.venv/lib/python3.11/site-packages/werkzeug/local.py:513\u001b[0m, in \u001b[0;36mLocalProxy.__init__.<locals>._get_current_object\u001b[0;34m()\u001b[0m\n\u001b[1;32m    511\u001b[0m     obj \u001b[39m=\u001b[39m local\u001b[39m.\u001b[39mget()  \u001b[39m# type: ignore[union-attr]\u001b[39;00m\n\u001b[1;32m    512\u001b[0m \u001b[39mexcept\u001b[39;00m \u001b[39mLookupError\u001b[39;00m:\n\u001b[0;32m--> 513\u001b[0m     \u001b[39mraise\u001b[39;00m \u001b[39mRuntimeError\u001b[39;00m(unbound_message) \u001b[39mfrom\u001b[39;00m \u001b[39mNone\u001b[39m\n\u001b[1;32m    515\u001b[0m \u001b[39mreturn\u001b[39;00m get_name(obj)\n",
      "\u001b[0;31mRuntimeError\u001b[0m: Working outside of application context.\n\nThis typically means that you attempted to use functionality that needed\nthe current application. To solve this, set up an application context\nwith app.app_context(). See the documentation for more information."
     ]
    }
   ],
   "source": [
    "from flask import make_response\n",
    "\n",
    "test = make_response(response)"
   ]
  },
  {
   "cell_type": "code",
   "execution_count": 11,
   "metadata": {},
   "outputs": [],
   "source": [
    "import io\n",
    "import zipfile\n",
    "import pandas as pd\n",
    "\n",
    "# Assume that the ZIP file contents are stored in a bytes object called zip_contents\n",
    "\n",
    "# Decode the ZIP file\n",
    "data = {}\n",
    "with zipfile.ZipFile(io.BytesIO(response)) as z:\n",
    "    # List the contents of the ZIP file\n",
    "    for filename in z.namelist():\n",
    "        with z.open(filename) as f:\n",
    "            # Read the contents of the file\n",
    "            df = pd.read_csv(f)\n",
    "            data[filename.split('/')[-1]] = df\n",
    "\n",
    "\n",
    "\n",
    "    "
   ]
  },
  {
   "cell_type": "code",
   "execution_count": 7,
   "metadata": {},
   "outputs": [],
   "source": [
    "import requests\n",
    "\n",
    "r = requests.get(\"http://127.0.0.1:5000/bytes\")"
   ]
  },
  {
   "cell_type": "code",
   "execution_count": 9,
   "metadata": {},
   "outputs": [
    {
     "data": {
      "text/plain": [
       "b'This is a bytes response'"
      ]
     },
     "execution_count": 9,
     "metadata": {},
     "output_type": "execute_result"
    }
   ],
   "source": [
    "r.content"
   ]
  },
  {
   "cell_type": "code",
   "execution_count": 22,
   "metadata": {},
   "outputs": [
    {
     "ename": "RuntimeError",
     "evalue": "Working outside of request context.\n\nThis typically means that you attempted to use functionality that needed\nan active HTTP request. Consult the documentation on testing for\ninformation about how to avoid this problem.",
     "output_type": "error",
     "traceback": [
      "\u001b[0;31m---------------------------------------------------------------------------\u001b[0m",
      "\u001b[0;31mRuntimeError\u001b[0m                              Traceback (most recent call last)",
      "Cell \u001b[0;32mIn[22], line 3\u001b[0m\n\u001b[1;32m      1\u001b[0m \u001b[39mfrom\u001b[39;00m \u001b[39mflask\u001b[39;00m \u001b[39mimport\u001b[39;00m send_file\n\u001b[0;32m----> 3\u001b[0m response \u001b[39m=\u001b[39m send_file(io\u001b[39m.\u001b[39;49mBytesIO(b_c), mimetype\u001b[39m=\u001b[39;49m\u001b[39m\"\u001b[39;49m\u001b[39mapplication/zip\u001b[39;49m\u001b[39m\"\u001b[39;49m)\n",
      "File \u001b[0;32m~/Documents/Github/cryptocurrency-notifications/.venv/lib/python3.11/site-packages/flask/helpers.py:540\u001b[0m, in \u001b[0;36msend_file\u001b[0;34m(path_or_file, mimetype, as_attachment, download_name, conditional, etag, last_modified, max_age)\u001b[0m\n\u001b[1;32m    424\u001b[0m \u001b[39mdef\u001b[39;00m \u001b[39msend_file\u001b[39m(\n\u001b[1;32m    425\u001b[0m     path_or_file: t\u001b[39m.\u001b[39mUnion[os\u001b[39m.\u001b[39mPathLike, \u001b[39mstr\u001b[39m, t\u001b[39m.\u001b[39mBinaryIO],\n\u001b[1;32m    426\u001b[0m     mimetype: t\u001b[39m.\u001b[39mOptional[\u001b[39mstr\u001b[39m] \u001b[39m=\u001b[39m \u001b[39mNone\u001b[39;00m,\n\u001b[0;32m   (...)\u001b[0m\n\u001b[1;32m    434\u001b[0m     ] \u001b[39m=\u001b[39m \u001b[39mNone\u001b[39;00m,\n\u001b[1;32m    435\u001b[0m ) \u001b[39m-\u001b[39m\u001b[39m>\u001b[39m \u001b[39m\"\u001b[39m\u001b[39mResponse\u001b[39m\u001b[39m\"\u001b[39m:\n\u001b[1;32m    436\u001b[0m \u001b[39m    \u001b[39m\u001b[39m\"\"\"Send the contents of a file to the client.\u001b[39;00m\n\u001b[1;32m    437\u001b[0m \n\u001b[1;32m    438\u001b[0m \u001b[39m    The first argument can be a file path or a file-like object. Paths\u001b[39;00m\n\u001b[0;32m   (...)\u001b[0m\n\u001b[1;32m    535\u001b[0m \u001b[39m    .. versionadded:: 0.2\u001b[39;00m\n\u001b[1;32m    536\u001b[0m \u001b[39m    \"\"\"\u001b[39;00m\n\u001b[1;32m    537\u001b[0m     \u001b[39mreturn\u001b[39;00m werkzeug\u001b[39m.\u001b[39mutils\u001b[39m.\u001b[39msend_file(  \u001b[39m# type: ignore[return-value]\u001b[39;00m\n\u001b[1;32m    538\u001b[0m         \u001b[39m*\u001b[39m\u001b[39m*\u001b[39m_prepare_send_file_kwargs(\n\u001b[1;32m    539\u001b[0m             path_or_file\u001b[39m=\u001b[39mpath_or_file,\n\u001b[0;32m--> 540\u001b[0m             environ\u001b[39m=\u001b[39mrequest\u001b[39m.\u001b[39;49menviron,\n\u001b[1;32m    541\u001b[0m             mimetype\u001b[39m=\u001b[39mmimetype,\n\u001b[1;32m    542\u001b[0m             as_attachment\u001b[39m=\u001b[39mas_attachment,\n\u001b[1;32m    543\u001b[0m             download_name\u001b[39m=\u001b[39mdownload_name,\n\u001b[1;32m    544\u001b[0m             conditional\u001b[39m=\u001b[39mconditional,\n\u001b[1;32m    545\u001b[0m             etag\u001b[39m=\u001b[39metag,\n\u001b[1;32m    546\u001b[0m             last_modified\u001b[39m=\u001b[39mlast_modified,\n\u001b[1;32m    547\u001b[0m             max_age\u001b[39m=\u001b[39mmax_age,\n\u001b[1;32m    548\u001b[0m         )\n\u001b[1;32m    549\u001b[0m     )\n",
      "File \u001b[0;32m~/Documents/Github/cryptocurrency-notifications/.venv/lib/python3.11/site-packages/werkzeug/local.py:316\u001b[0m, in \u001b[0;36m_ProxyLookup.__get__\u001b[0;34m(self, instance, owner)\u001b[0m\n\u001b[1;32m    313\u001b[0m     \u001b[39mreturn\u001b[39;00m \u001b[39mself\u001b[39m\n\u001b[1;32m    315\u001b[0m \u001b[39mtry\u001b[39;00m:\n\u001b[0;32m--> 316\u001b[0m     obj \u001b[39m=\u001b[39m instance\u001b[39m.\u001b[39;49m_get_current_object()\n\u001b[1;32m    317\u001b[0m \u001b[39mexcept\u001b[39;00m \u001b[39mRuntimeError\u001b[39;00m:\n\u001b[1;32m    318\u001b[0m     \u001b[39mif\u001b[39;00m \u001b[39mself\u001b[39m\u001b[39m.\u001b[39mfallback \u001b[39mis\u001b[39;00m \u001b[39mNone\u001b[39;00m:\n",
      "File \u001b[0;32m~/Documents/Github/cryptocurrency-notifications/.venv/lib/python3.11/site-packages/werkzeug/local.py:513\u001b[0m, in \u001b[0;36mLocalProxy.__init__.<locals>._get_current_object\u001b[0;34m()\u001b[0m\n\u001b[1;32m    511\u001b[0m     obj \u001b[39m=\u001b[39m local\u001b[39m.\u001b[39mget()  \u001b[39m# type: ignore[union-attr]\u001b[39;00m\n\u001b[1;32m    512\u001b[0m \u001b[39mexcept\u001b[39;00m \u001b[39mLookupError\u001b[39;00m:\n\u001b[0;32m--> 513\u001b[0m     \u001b[39mraise\u001b[39;00m \u001b[39mRuntimeError\u001b[39;00m(unbound_message) \u001b[39mfrom\u001b[39;00m \u001b[39mNone\u001b[39m\n\u001b[1;32m    515\u001b[0m \u001b[39mreturn\u001b[39;00m get_name(obj)\n",
      "\u001b[0;31mRuntimeError\u001b[0m: Working outside of request context.\n\nThis typically means that you attempted to use functionality that needed\nan active HTTP request. Consult the documentation on testing for\ninformation about how to avoid this problem."
     ]
    }
   ],
   "source": [
    "from flask import send_file\n",
    "\n",
    "response = send_file(io.BytesIO(b_c), mimetype=\"application/zip\")"
   ]
  },
  {
   "cell_type": "code",
   "execution_count": 20,
   "metadata": {},
   "outputs": [
    {
     "data": {
      "text/plain": [
       "bytes"
      ]
     },
     "execution_count": 20,
     "metadata": {},
     "output_type": "execute_result"
    }
   ],
   "source": [
    "type(b_c)"
   ]
  },
  {
   "cell_type": "code",
   "execution_count": 2,
   "metadata": {},
   "outputs": [],
   "source": [
    "# Load environment variables from .env file\n",
    "import os\n",
    "from dotenv import load_dotenv\n",
    "import requests\n",
    "from google.cloud import bigquery\n",
    "from google.oauth2 import service_account\n",
    "import google.auth.transport.requests\n",
    "import google.oauth2.id_token\n",
    "import json\n",
    "\n",
    "load_dotenv()\n",
    "KEY_PATH = os.getenv(\"GOOGLE_APPLICATION_CREDENTIALS\")\n",
    "GOOGLE_CLOUD_FUNCTION = os.getenv(\"GOOGLE_CLOUD_FUNCTION\")\n",
    "endpoint = GOOGLE_CLOUD_FUNCTION\n",
    "audience = endpoint\n",
    "\n",
    "auth_req = google.auth.transport.requests.Request()\n",
    "id_token = google.oauth2.id_token.fetch_id_token(auth_req, audience)\n",
    "\n",
    "# Add message in request args\n",
    "headers = {\"Authorization\": f\"Bearer {id_token}\", \"Content-Type\": \"application/json\"}\n",
    "\n",
    "\n",
    "r = requests.post(\n",
    "    endpoint, data=json.dumps({\"message\": \"wow json data\"}), headers=headers\n",
    ")\n"
   ]
  },
  {
   "cell_type": "code",
   "execution_count": 3,
   "metadata": {},
   "outputs": [
    {
     "data": {
      "text/plain": [
       "'Hello World!'"
      ]
     },
     "execution_count": 3,
     "metadata": {},
     "output_type": "execute_result"
    }
   ],
   "source": [
    "r.text\n"
   ]
  }
 ],
 "metadata": {
  "kernelspec": {
   "display_name": "Python 3",
   "language": "python",
   "name": "python3"
  },
  "language_info": {
   "codemirror_mode": {
    "name": "ipython",
    "version": 3
   },
   "file_extension": ".py",
   "mimetype": "text/x-python",
   "name": "python",
   "nbconvert_exporter": "python",
   "pygments_lexer": "ipython3",
   "version": "3.11.1"
  },
  "orig_nbformat": 4
 },
 "nbformat": 4,
 "nbformat_minor": 2
}
