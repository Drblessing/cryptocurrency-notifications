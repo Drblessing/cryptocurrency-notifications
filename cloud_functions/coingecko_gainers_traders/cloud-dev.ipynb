{
 "cells": [
  {
   "cell_type": "code",
   "execution_count": 7,
   "metadata": {},
   "outputs": [
    {
     "name": "stderr",
     "output_type": "stream",
     "text": [
      "2023-04-04 11:25:40,846 - INFO - Cloud function starting.\n",
      "2023-04-04 11:25:43,083 - INFO - Scraping complete.\n",
      "2023-04-04 11:25:43,741 - INFO - Current working directory: /Users/dbless/Documents/Github/cryptocurrency-notifications/cloud_functions/coingecko_gainers_traders\n",
      "2023-04-04 11:25:45,514 - INFO - Scraping 3 coins that are missing symbols.\n",
      "2023-04-04 11:25:50,639 - INFO - Scraped https://www.coingecko.com/en/coins/crypto-gladiator-league\n",
      "2023-04-04 11:25:54,330 - INFO - Scraped https://www.coingecko.com/en/coins/hnc-coin\n",
      "2023-04-04 11:25:58,004 - INFO - Scraped https://www.coingecko.com/en/coins/jenny-dao-v1\n",
      "2023-04-04 11:25:58,021 - INFO - Number of coins with ethereum contract addresses: 33\n",
      "2023-04-04 11:25:58,022 - INFO - Done scraping contract addresses!\n",
      "2023-04-04 11:25:58,027 - INFO - Checking 33 token contracts.\n",
      "2023-04-04 11:25:58,285 - INFO - Running SQL query on Google Big Cloud.\n",
      "2023-04-04 11:26:01,379 - INFO - Query will process 764 MB.\n",
      "2023-04-04 11:26:01,380 - INFO - Running query...\n",
      "2023-04-04 11:26:03,097 - INFO - Query completed.\n",
      "2023-04-04 11:26:09,456 - INFO - Found 51 wallets.\n"
     ]
    }
   ],
   "source": [
    "import logging\n",
    "\n",
    "logger = logging.getLogger(__name__)\n",
    "logger.setLevel(logging.INFO)\n",
    "logging.Formatter(\"%(asctime)s - %(levelname)s - %(message)s\")\n",
    "\n",
    "# Create a console handler and set its level\n",
    "console_handler = logging.StreamHandler()\n",
    "console_handler.setLevel(logging.INFO)\n",
    "\n",
    "# Create a formatter and set it on the console handler\n",
    "formatter = logging.Formatter(\"%(asctime)s - %(levelname)s - %(message)s\")\n",
    "console_handler.setFormatter(formatter)\n",
    "\n",
    "# Add the console handler to the logger\n",
    "logger.addHandler(console_handler)\n",
    "\n",
    "\n",
    "def main():\n",
    "    logger.info(\"Cloud function starting.\")\n",
    "    # 1. Scrape coingecko gainers.\n",
    "    import scraping.scraper\n",
    "\n",
    "    scraping.scraper.main()\n",
    "\n",
    "    # 2. Get contract address for gainers that have them, with coingecko.\n",
    "    import scraping.contract_addresses\n",
    "\n",
    "    scraping.contract_addresses.main(local=True)\n",
    "\n",
    "    # 3. Run SQL query on Google Big Query to find wallets that have receieved these tokens within the last 7 days.\n",
    "    import gbq.gbq\n",
    "\n",
    "    gbq.gbq.main(local=True)\n",
    "\n",
    "\n",
    "main()\n"
   ]
  },
  {
   "cell_type": "code",
   "execution_count": 10,
   "metadata": {},
   "outputs": [],
   "source": [
    "# Load environment variables from .env file\n",
    "import os\n",
    "from dotenv import load_dotenv\n",
    "import requests\n",
    "from google.cloud import bigquery\n",
    "from google.oauth2 import service_account\n",
    "import google.auth.transport.requests\n",
    "import google.oauth2.id_token\n",
    "import json\n",
    "\n",
    "load_dotenv()\n",
    "KEY_PATH = os.getenv(\"GOOGLE_APPLICATION_CREDENTIALS\")\n",
    "GOOGLE_CLOUD_FUNCTION = os.getenv(\"GOOGLE_CLOUD_FUNCTION\")\n",
    "endpoint = GOOGLE_CLOUD_FUNCTION\n",
    "audience = endpoint\n",
    "\n",
    "auth_req = google.auth.transport.requests.Request()\n",
    "id_token = google.oauth2.id_token.fetch_id_token(auth_req, audience)\n",
    "\n",
    "# Add message in request args\n",
    "headers = {\"Authorization\": f\"Bearer {id_token}\", \"Content-Type\": \"application/json\"}\n",
    "\n",
    "\n",
    "r = requests.post(\n",
    "    endpoint, data=json.dumps({\"message\": \"wow json data\"}), headers=headers\n",
    ")\n"
   ]
  },
  {
   "cell_type": "code",
   "execution_count": 13,
   "metadata": {},
   "outputs": [
    {
     "data": {
      "text/plain": [
       "<Response [200]>"
      ]
     },
     "execution_count": 13,
     "metadata": {},
     "output_type": "execute_result"
    }
   ],
   "source": [
    "import pandas as pd\n"
   ]
  }
 ],
 "metadata": {
  "kernelspec": {
   "display_name": "Python 3",
   "language": "python",
   "name": "python3"
  },
  "language_info": {
   "codemirror_mode": {
    "name": "ipython",
    "version": 3
   },
   "file_extension": ".py",
   "mimetype": "text/x-python",
   "name": "python",
   "nbconvert_exporter": "python",
   "pygments_lexer": "ipython3",
   "version": "3.11.1"
  },
  "orig_nbformat": 4
 },
 "nbformat": 4,
 "nbformat_minor": 2
}
