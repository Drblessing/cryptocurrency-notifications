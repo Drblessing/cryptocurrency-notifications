{
 "cells": [
  {
   "cell_type": "code",
   "execution_count": 20,
   "metadata": {},
   "outputs": [],
   "source": [
    "import http.cookiejar\n",
    "import json\n",
    "\n",
    "def load_cookies_from_json(file_path):\n",
    "    with open(file_path, 'r') as f:\n",
    "        cookies_data = json.load(f)\n",
    "    cookies = {}\n",
    "    for cookie in cookies_data:\n",
    "        cookies[cookie['name']] = cookie['value']\n",
    "    return cookies\n",
    "\n",
    "cookies = load_cookies_from_json('cookies.json')"
   ]
  }
 ],
 "metadata": {
  "kernelspec": {
   "display_name": ".venv",
   "language": "python",
   "name": "python3"
  },
  "language_info": {
   "codemirror_mode": {
    "name": "ipython",
    "version": 3
   },
   "file_extension": ".py",
   "mimetype": "text/x-python",
   "name": "python",
   "nbconvert_exporter": "python",
   "pygments_lexer": "ipython3",
   "version": "3.11.1"
  },
  "orig_nbformat": 4
 },
 "nbformat": 4,
 "nbformat_minor": 2
}
